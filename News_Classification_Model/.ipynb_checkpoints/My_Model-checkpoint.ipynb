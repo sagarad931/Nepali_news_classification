{
 "cells": [
  {
   "cell_type": "code",
   "execution_count": 16,
   "id": "664dd786-7445-4230-9377-16c1970ea9cd",
   "metadata": {
    "tags": []
   },
   "outputs": [],
   "source": [
    "import os\n",
    "import pandas as pd\n",
    "import numpy as np\n",
    "import warnings\n",
    "warnings.filterwarnings(\"ignore\")"
   ]
  },
  {
   "cell_type": "code",
   "execution_count": 17,
   "id": "d6e8bbeb-4bb0-4b61-be9e-075be97dd189",
   "metadata": {
    "tags": []
   },
   "outputs": [
    {
     "name": "stdout",
     "output_type": "stream",
     "text": [
      "['Agriculture.csv', 'Automobiles.csv', 'Bank.csv', 'Business.csv', 'Economy.csv', 'Education.csv', 'Entertainment.csv', 'Health.csv', 'Politics.csv', 'Sports.csv', 'Technology.csv', 'Tourism.csv', 'World.csv']\n"
     ]
    }
   ],
   "source": [
    "all_filenames = [i for i in os.listdir(\"D:\\\\Final year project\\\\My Project\\\\Code\\\\News_Classification_Model\\\\CSV files\") if  \".csv\" in i and \"combined\" not in i]\n",
    "print(all_filenames)"
   ]
  },
  {
   "cell_type": "code",
   "execution_count": 20,
   "id": "31ee8c60-7742-4c92-b87c-51547d86489c",
   "metadata": {
    "tags": []
   },
   "outputs": [],
   "source": [
    "root = \"D:\\\\Final year project\\\\My Project\\\\Code\\\\News_Classification_Model\\\\CSV files\\\\\""
   ]
  },
  {
   "cell_type": "code",
   "execution_count": 21,
   "id": "7b10f4e9-dd3a-4f8d-8fd3-52773e274fec",
   "metadata": {
    "tags": []
   },
   "outputs": [
    {
     "data": {
      "text/html": [
       "<div>\n",
       "<style scoped>\n",
       "    .dataframe tbody tr th:only-of-type {\n",
       "        vertical-align: middle;\n",
       "    }\n",
       "\n",
       "    .dataframe tbody tr th {\n",
       "        vertical-align: top;\n",
       "    }\n",
       "\n",
       "    .dataframe thead th {\n",
       "        text-align: right;\n",
       "    }\n",
       "</style>\n",
       "<table border=\"1\" class=\"dataframe\">\n",
       "  <thead>\n",
       "    <tr style=\"text-align: right;\">\n",
       "      <th></th>\n",
       "      <th>text</th>\n",
       "      <th>category</th>\n",
       "    </tr>\n",
       "  </thead>\n",
       "  <tbody>\n",
       "    <tr>\n",
       "      <th>0</th>\n",
       "      <td>﻿काठमाडौंमा पहिलो पटक स्ट्रबेरीको व्यवसायिक खे...</td>\n",
       "      <td>Agriculture</td>\n",
       "    </tr>\n",
       "    <tr>\n",
       "      <th>1</th>\n",
       "      <td>जिल्लाका किसानले लगाएको अदुवामा गानो कुहिने, ग...</td>\n",
       "      <td>Agriculture</td>\n",
       "    </tr>\n",
       "    <tr>\n",
       "      <th>2</th>\n",
       "      <td>काभ्रेपलाञ्चोकमा कृषकले एसआरआई प्रविधिमा गरेको...</td>\n",
       "      <td>Agriculture</td>\n",
       "    </tr>\n",
       "    <tr>\n",
       "      <th>3</th>\n",
       "      <td>राजधानीमा यतिबेला तरकारीको मूल्य आकासिएको छ। क...</td>\n",
       "      <td>Agriculture</td>\n",
       "    </tr>\n",
       "    <tr>\n",
       "      <th>4</th>\n",
       "      <td>पाल पोल्ट्री तथा लाइभस्टक क्षेत्रको समग्र विका...</td>\n",
       "      <td>Agriculture</td>\n",
       "    </tr>\n",
       "    <tr>\n",
       "      <th>...</th>\n",
       "      <td>...</td>\n",
       "      <td>...</td>\n",
       "    </tr>\n",
       "    <tr>\n",
       "      <th>117</th>\n",
       "      <td>\\n﻿बिहार । मुकेश पाठक सहित आधा दर्जन कुख्यात अ...</td>\n",
       "      <td>world</td>\n",
       "    </tr>\n",
       "    <tr>\n",
       "      <th>118</th>\n",
       "      <td>\\n﻿राजविराज, २६ साउन । सप्तरी जिल्लामा पहिलो प...</td>\n",
       "      <td>world</td>\n",
       "    </tr>\n",
       "    <tr>\n",
       "      <th>119</th>\n",
       "      <td>\\n﻿वीरगञ्ज, ५ असोज । वीरगञ्जमा भव्यताका साथ वि...</td>\n",
       "      <td>world</td>\n",
       "    </tr>\n",
       "    <tr>\n",
       "      <th>120</th>\n",
       "      <td>\\n﻿वीरगञ्ज, ५ असोज । आत्मा ज्ञान प्रचार संघ वी...</td>\n",
       "      <td>world</td>\n",
       "    </tr>\n",
       "    <tr>\n",
       "      <th>121</th>\n",
       "      <td>\\n﻿सिरहा, ३० कार्तिक । सिरहाको कर्जन्हाका क्या...</td>\n",
       "      <td>world</td>\n",
       "    </tr>\n",
       "  </tbody>\n",
       "</table>\n",
       "<p>1219 rows × 2 columns</p>\n",
       "</div>"
      ],
      "text/plain": [
       "                                                  text     category\n",
       "0    ﻿काठमाडौंमा पहिलो पटक स्ट्रबेरीको व्यवसायिक खे...  Agriculture\n",
       "1    जिल्लाका किसानले लगाएको अदुवामा गानो कुहिने, ग...  Agriculture\n",
       "2    काभ्रेपलाञ्चोकमा कृषकले एसआरआई प्रविधिमा गरेको...  Agriculture\n",
       "3    राजधानीमा यतिबेला तरकारीको मूल्य आकासिएको छ। क...  Agriculture\n",
       "4    पाल पोल्ट्री तथा लाइभस्टक क्षेत्रको समग्र विका...  Agriculture\n",
       "..                                                 ...          ...\n",
       "117  \\n﻿बिहार । मुकेश पाठक सहित आधा दर्जन कुख्यात अ...        world\n",
       "118  \\n﻿राजविराज, २६ साउन । सप्तरी जिल्लामा पहिलो प...        world\n",
       "119  \\n﻿वीरगञ्ज, ५ असोज । वीरगञ्जमा भव्यताका साथ वि...        world\n",
       "120  \\n﻿वीरगञ्ज, ५ असोज । आत्मा ज्ञान प्रचार संघ वी...        world\n",
       "121  \\n﻿सिरहा, ३० कार्तिक । सिरहाको कर्जन्हाका क्या...        world\n",
       "\n",
       "[1219 rows x 2 columns]"
      ]
     },
     "execution_count": 21,
     "metadata": {},
     "output_type": "execute_result"
    }
   ],
   "source": [
    "combined_csv = pd.concat([pd.read_csv(root+f) for f in all_filenames])\n",
    "combined_csv"
   ]
  },
  {
   "cell_type": "code",
   "execution_count": 22,
   "id": "b349647f-6573-4425-9431-5ee3dd1eb43a",
   "metadata": {
    "tags": []
   },
   "outputs": [],
   "source": [
    "df = combined_csv.copy()"
   ]
  },
  {
   "cell_type": "code",
   "execution_count": 24,
   "id": "40a5710a-2ce3-4400-9ced-c6556cccd514",
   "metadata": {
    "tags": []
   },
   "outputs": [
    {
     "data": {
      "text/plain": [
       "['अक्सर',\n",
       " 'अगाडि',\n",
       " 'अझै',\n",
       " 'अनुसार',\n",
       " 'अन्तर्गत',\n",
       " 'अन्य',\n",
       " 'अन्यत्र',\n",
       " 'अन्यथा',\n",
       " 'अब',\n",
       " 'अरू',\n",
       " 'अरूलाई',\n",
       " 'अर्को',\n",
       " 'अर्थात',\n",
       " 'अर्थात्',\n",
       " 'अलग',\n",
       " 'आए',\n",
       " 'आजको',\n",
       " 'आठ',\n",
       " 'आत्म',\n",
       " 'आदि',\n",
       " 'आफू',\n",
       " 'आफूलाई',\n",
       " 'आफैलाई',\n",
       " 'आफ्नै',\n",
       " 'आफ्नो',\n",
       " 'आयो',\n",
       " 'उदाहरण',\n",
       " 'उन',\n",
       " 'उनको',\n",
       " 'उनले',\n",
       " 'उप',\n",
       " 'उहाँलाई',\n",
       " 'एउटै',\n",
       " 'एक',\n",
       " 'एकदम',\n",
       " 'औं',\n",
       " 'कतै',\n",
       " 'कम से कम',\n",
       " 'कसरी',\n",
       " 'कसै',\n",
       " 'कसैले',\n",
       " 'कहाँबाट',\n",
       " 'कहिलेकाहीं',\n",
       " 'कहिल्यै',\n",
       " 'कहीं',\n",
       " 'का',\n",
       " 'कि',\n",
       " 'किन',\n",
       " 'किनभने',\n",
       " 'कुनै',\n",
       " 'कुरा',\n",
       " 'कृपया',\n",
       " 'के',\n",
       " 'केहि',\n",
       " 'केही',\n",
       " 'को',\n",
       " 'कोही',\n",
       " 'क्रमशः',\n",
       " 'गए',\n",
       " 'गरि',\n",
       " 'गरी',\n",
       " 'गरेका',\n",
       " 'गरेको',\n",
       " 'गरेर',\n",
       " 'गरौं',\n",
       " 'गर्छ',\n",
       " 'गर्छु',\n",
       " 'गर्दै',\n",
       " 'गर्न',\n",
       " 'गर्नु',\n",
       " 'गर्नुपर्छ',\n",
       " 'गर्ने',\n",
       " 'गर्यौं',\n",
       " 'गैर',\n",
       " 'चाँडै',\n",
       " 'चार',\n",
       " 'चाले',\n",
       " 'चाहनुहुन्छ',\n",
       " 'चाहन्छु',\n",
       " 'चाहिए',\n",
       " 'छ',\n",
       " 'छन्',\n",
       " 'छु',\n",
       " 'छैन',\n",
       " 'छौँ',\n",
       " 'छौं',\n",
       " 'जताततै',\n",
       " 'जब',\n",
       " 'जबकि',\n",
       " 'जसको',\n",
       " 'जसबाट',\n",
       " 'जसमा',\n",
       " 'जसलाई',\n",
       " 'जसले',\n",
       " 'जस्तै',\n",
       " 'जस्तो',\n",
       " 'जस्तोसुकै',\n",
       " 'जहाँ',\n",
       " 'जान',\n",
       " 'जाहिर',\n",
       " 'जुन',\n",
       " 'जे',\n",
       " 'जो',\n",
       " 'ठीक',\n",
       " 'त',\n",
       " 'तत्काल',\n",
       " 'तथा',\n",
       " 'तदनुसार',\n",
       " 'तपाइँको',\n",
       " 'तपाईं',\n",
       " 'तर',\n",
       " 'तल',\n",
       " 'तापनि',\n",
       " 'तिनी',\n",
       " 'तिनीहरू',\n",
       " 'तिनीहरूको',\n",
       " 'तिनीहरूलाई',\n",
       " 'तिनीहरूले',\n",
       " 'तिमी',\n",
       " 'तिर',\n",
       " 'ती',\n",
       " 'तीन',\n",
       " 'तुरुन्तै',\n",
       " 'तेस्रो',\n",
       " 'त्यसकारण',\n",
       " 'त्यसपछि',\n",
       " 'त्यसमा',\n",
       " 'त्यसैले',\n",
       " 'त्यहाँ',\n",
       " 'त्यो',\n",
       " 'थिए',\n",
       " 'थिएन',\n",
       " 'थिएनन्',\n",
       " 'थियो',\n",
       " 'दिए',\n",
       " 'दिनुभएको',\n",
       " 'दिनुहुन्छ',\n",
       " 'दुई',\n",
       " 'देख',\n",
       " 'देखि',\n",
       " 'देखिन्छ',\n",
       " 'देखियो',\n",
       " 'देखे',\n",
       " 'देखेको',\n",
       " 'देखेर',\n",
       " 'देख्न',\n",
       " 'दोश्रो',\n",
       " 'दोस्रो',\n",
       " 'धेरै',\n",
       " 'न',\n",
       " 'नजिकै',\n",
       " 'नत्र',\n",
       " 'नयाँ',\n",
       " 'नि',\n",
       " 'निम्ति',\n",
       " 'निम्न',\n",
       " 'निम्नानुसार',\n",
       " 'निर्दिष्ट',\n",
       " 'नै',\n",
       " 'नौ',\n",
       " 'पक्का',\n",
       " 'पक्कै',\n",
       " 'पछि',\n",
       " 'पछिल्लो',\n",
       " 'पटक',\n",
       " 'पनि',\n",
       " 'पर्छ',\n",
       " 'पर्थ्यो',\n",
       " 'पर्याप्त',\n",
       " 'पहिले',\n",
       " 'पहिलो',\n",
       " 'पहिल्यै',\n",
       " 'पाँच',\n",
       " 'पाँचौं',\n",
       " 'पूर्व',\n",
       " 'प्रति',\n",
       " 'प्रत्येक',\n",
       " 'प्लस',\n",
       " 'फेरि',\n",
       " 'बने',\n",
       " 'बन्द',\n",
       " 'बन्न',\n",
       " 'बरु',\n",
       " 'बाटो',\n",
       " 'बारे',\n",
       " 'बाहिर',\n",
       " 'बाहेक',\n",
       " 'बीच',\n",
       " 'बीचमा',\n",
       " 'भए',\n",
       " 'भएको',\n",
       " 'भन',\n",
       " 'भने',\n",
       " 'भने्',\n",
       " 'भन्छन्',\n",
       " 'भन्छु',\n",
       " 'भन्दा',\n",
       " 'भन्नुभयो',\n",
       " 'भन्ने',\n",
       " 'भर',\n",
       " 'भित्र',\n",
       " 'भित्री',\n",
       " 'म',\n",
       " 'मलाई',\n",
       " 'मा',\n",
       " 'मात्र',\n",
       " 'माथि',\n",
       " 'मुख्य',\n",
       " 'मेरो',\n",
       " 'यति',\n",
       " 'यथोचित',\n",
       " 'यदि',\n",
       " 'यद्यपि',\n",
       " 'यस',\n",
       " 'यसको',\n",
       " 'यसपछि',\n",
       " 'यसबाहेक',\n",
       " 'यसरी',\n",
       " 'यसो',\n",
       " 'यस्तो',\n",
       " 'यहाँ',\n",
       " 'यहाँसम्म',\n",
       " 'या',\n",
       " 'यी',\n",
       " 'यो',\n",
       " 'र',\n",
       " 'रही',\n",
       " 'रहेका',\n",
       " 'रहेको',\n",
       " 'राखे',\n",
       " 'राख्छ',\n",
       " 'राम्रो',\n",
       " 'रूप',\n",
       " 'लगभग',\n",
       " 'लाई',\n",
       " 'लागि',\n",
       " 'ले',\n",
       " 'वरिपरि',\n",
       " 'वास्तवमा',\n",
       " 'वाहेक',\n",
       " 'विरुद्ध',\n",
       " 'विशेष',\n",
       " 'शायद',\n",
       " 'सँग',\n",
       " 'सँगै',\n",
       " 'सक्छ',\n",
       " 'सट्टा',\n",
       " 'सधैं',\n",
       " 'सबै',\n",
       " 'सबैलाई',\n",
       " 'समय',\n",
       " 'सम्भव',\n",
       " 'सम्म',\n",
       " 'सही',\n",
       " 'साँच्चै',\n",
       " 'सात',\n",
       " 'साथ',\n",
       " 'साथै',\n",
       " 'सायद',\n",
       " 'सारा',\n",
       " 'सो',\n",
       " 'सोध्न',\n",
       " 'सोही',\n",
       " 'स्पष्ट',\n",
       " 'हरे',\n",
       " 'हरेक',\n",
       " 'हामी',\n",
       " 'हामीलाई',\n",
       " 'हाम्रो',\n",
       " 'हुँ',\n",
       " 'हुन',\n",
       " 'हुने',\n",
       " 'हुनेछ',\n",
       " 'हुन्',\n",
       " 'हुन्छ',\n",
       " 'हो',\n",
       " 'होइन',\n",
       " 'होइनन्',\n",
       " 'होला',\n",
       " 'होस्']"
      ]
     },
     "execution_count": 24,
     "metadata": {},
     "output_type": "execute_result"
    }
   ],
   "source": [
    "stop_file = \"D:\\\\Final year project\\\\My Project\\\\Code\\\\News_Classification_Model\\\\nepali_stopwords.txt\"\n",
    "stop_words = []\n",
    "with open(stop_file, encoding='utf-8') as fp:\n",
    "    lines = fp.readlines()\n",
    "    stop_words =list( map(lambda x:x.strip(), lines))\n",
    "stop_words"
   ]
  },
  {
   "cell_type": "code",
   "execution_count": 25,
   "id": "317fa32d-cdb1-41fe-b706-2b2b7181edaf",
   "metadata": {
    "tags": []
   },
   "outputs": [
    {
     "data": {
      "text/plain": [
       "[':', '?', '|', '!', '.', ',', '\" \"', \"''\", '( )', '—', '-', \"?'\", '\\\\n']"
      ]
     },
     "execution_count": 25,
     "metadata": {},
     "output_type": "execute_result"
    }
   ],
   "source": [
    "punctuation_file = \"D:\\\\Final year project\\\\My Project\\\\Code\\\\News_Classification_Model\\\\nepali_punctuation (1).txt\"\n",
    "punctuation_words = []\n",
    "with open(punctuation_file, encoding='utf-8') as fp:\n",
    "    lines = fp.readlines()\n",
    "    punctuation_words =list( map(lambda x:x.strip(), lines))\n",
    "punctuation_words"
   ]
  },
  {
   "cell_type": "code",
   "execution_count": 27,
   "id": "d7c377f2-8c02-4d3d-9894-b9ac7054ebd6",
   "metadata": {
    "tags": []
   },
   "outputs": [
    {
     "name": "stdout",
     "output_type": "stream",
     "text": [
      "['शिक्षण संस्थामा जनस्वास्थ्य मापदण्ड पालना शिक्षा मन्त्रालयको निर्देशन']\n"
     ]
    }
   ],
   "source": [
    "def preprocess_text(cat_data, stop_words, punctuation_words):\n",
    "  new_cat = []\n",
    "  noise = \"1,2,3,4,5,6,7,8,9,0,०,१,२,३,४,५,६,७,८,९\".split(\",\")\n",
    "  \n",
    "  for row in cat_data:\n",
    "    words = row.strip().split(\" \")      \n",
    "    nwords = \"\" # []\n",
    "    \n",
    "    for word in words:\n",
    "      if word not in punctuation_words and word not in stop_words:\n",
    "        is_noise = False\n",
    "        for n in noise:\n",
    "          #print(n)\n",
    "          if n in word:\n",
    "            is_noise = True\n",
    "            break\n",
    "        if is_noise == False:\n",
    "          word = word.replace(\"(\",\"\")\n",
    "          word = word.replace(\")\",\"\")\n",
    "          # nwords.append(word)\n",
    "          if len(word)>1:\n",
    "            nwords+=word+\" \"\n",
    "          \n",
    "    new_cat.append(nwords.strip())\n",
    "  # print(new_cat)\n",
    "  return new_cat\n",
    "\n",
    "title_clean = preprocess_text([\"\\nशिक्षण संस्थामा 6 म ज जनस्वास्थ्य 50 मापदण्ड पालना शिक्षा मन्त्रालयको निर्देशन\"], stop_words, punctuation_words)\n",
    "print(title_clean)"
   ]
  },
  {
   "cell_type": "code",
   "execution_count": 28,
   "id": "f322920f-197f-4d31-aa53-b23261c75bf0",
   "metadata": {
    "tags": []
   },
   "outputs": [],
   "source": [
    "ndf = df.copy()\n",
    "cat_title = []\n",
    "for i, row in ndf.iterrows():\n",
    "  ndf.loc[i, \"Title\"]= preprocess_text([row.text], stop_words, punctuation_words)[0]\n",
    "\n",
    "#ndf"
   ]
  },
  {
   "cell_type": "code",
   "execution_count": 29,
   "id": "c381c59d-a708-483d-b570-4b30c2481dea",
   "metadata": {
    "tags": []
   },
   "outputs": [],
   "source": [
    "from sklearn.feature_extraction.text import CountVectorizer\n",
    "from sklearn.model_selection import train_test_split\n",
    "from sklearn.naive_bayes import MultinomialNB\n",
    "from sklearn.utils.multiclass import unique_labels"
   ]
  },
  {
   "cell_type": "code",
   "execution_count": 30,
   "id": "37fc6901-3522-4e50-be4d-c44cb6c8196e",
   "metadata": {
    "tags": []
   },
   "outputs": [],
   "source": [
    "data = pd.DataFrame()\n",
    "\n",
    "data[\"text\"]=ndf.text\n",
    "data[\"label\"]=ndf.category\n",
    "data[\"target\"] = data[\"label\"].apply(lambda x: \"news\" if x==\"prabhas-news\" else \"national\" if x==\"province\" else x)\n",
    "classes = {c:i for i,c in enumerate(data.target.unique())}\n",
    "data[\"target\"] = data.target.apply(lambda x: classes[x])\n",
    "\n",
    "\n",
    "X_train, X_test, Y_train, Y_test = train_test_split(data['text'], \n",
    "                                                    data['target'], \n",
    "                                                    random_state=0)\n",
    "\n",
    "vectorizer = CountVectorizer(ngram_range=(1, 2)).fit(X_train)\n",
    "X_train_vectorized = vectorizer.transform(X_train)"
   ]
  },
  {
   "cell_type": "code",
   "execution_count": 31,
   "id": "f782b788-529d-4d7c-a8d1-c1c224f30106",
   "metadata": {
    "tags": []
   },
   "outputs": [
    {
     "data": {
      "text/plain": [
       "0.9989059080962801"
      ]
     },
     "execution_count": 31,
     "metadata": {},
     "output_type": "execute_result"
    }
   ],
   "source": [
    "model = MultinomialNB(alpha=0.1)\n",
    "model.fit(X_train_vectorized, Y_train)\n",
    "model.score(X_train_vectorized, Y_train)"
   ]
  },
  {
   "cell_type": "code",
   "execution_count": 32,
   "id": "13b440a4-5a80-4d5f-b57f-88aca1a3ba99",
   "metadata": {
    "tags": []
   },
   "outputs": [
    {
     "name": "stdout",
     "output_type": "stream",
     "text": [
      "Accuracy: 74.09836065573771 %\n"
     ]
    }
   ],
   "source": [
    "predictions = model.predict(vectorizer.transform(X_test))\n",
    "print(\"Accuracy:\", 100 * sum(predictions == Y_test) / len(predictions), '%')"
   ]
  },
  {
   "cell_type": "code",
   "execution_count": 33,
   "id": "de9d7947-5283-43d4-81a9-b104b0704b4b",
   "metadata": {
    "tags": []
   },
   "outputs": [
    {
     "data": {
      "text/plain": [
       "(array([ 0,  1,  2,  3,  4,  5,  6,  7,  8,  9, 10, 11, 12], dtype=int64),\n",
       " {'Agriculture': 0,\n",
       "  'automobiles': 1,\n",
       "  'bank': 2,\n",
       "  'business': 3,\n",
       "  'economy': 4,\n",
       "  'education': 5,\n",
       "  'entertainment': 6,\n",
       "  'health': 7,\n",
       "  'politics': 8,\n",
       "  'sports': 9,\n",
       "  'technology': 10,\n",
       "  'tourism': 11,\n",
       "  'world': 12})"
      ]
     },
     "execution_count": 33,
     "metadata": {},
     "output_type": "execute_result"
    }
   ],
   "source": [
    "model.classes_, classes"
   ]
  },
  {
   "cell_type": "code",
   "execution_count": 34,
   "id": "54c767c7-1c6f-41b5-ba4d-0283effb4482",
   "metadata": {
    "tags": []
   },
   "outputs": [
    {
     "data": {
      "text/plain": [
       "['bank']"
      ]
     },
     "execution_count": 34,
     "metadata": {},
     "output_type": "execute_result"
    }
   ],
   "source": [
    "prd = model.predict(vectorizer.transform(\n",
    "    [\n",
    "       '' \n",
    "    ])\n",
    "            ) \n",
    "nprd = []\n",
    "for k,v in classes.items():\n",
    "  for p in prd:\n",
    "    if v==p:\n",
    "      nprd.append(k)\n",
    "nprd"
   ]
  },
  {
   "cell_type": "code",
   "execution_count": null,
   "id": "269006f5-7dd1-40eb-a502-7a3ee0b1f8fe",
   "metadata": {},
   "outputs": [],
   "source": []
  },
  {
   "cell_type": "code",
   "execution_count": null,
   "id": "8d5737b2-07ef-4d49-aba4-2e238a2dfa29",
   "metadata": {},
   "outputs": [],
   "source": []
  }
 ],
 "metadata": {
  "kernelspec": {
   "display_name": "Python 3 (ipykernel)",
   "language": "python",
   "name": "python3"
  },
  "language_info": {
   "codemirror_mode": {
    "name": "ipython",
    "version": 3
   },
   "file_extension": ".py",
   "mimetype": "text/x-python",
   "name": "python",
   "nbconvert_exporter": "python",
   "pygments_lexer": "ipython3",
   "version": "3.11.1"
  }
 },
 "nbformat": 4,
 "nbformat_minor": 5
}
