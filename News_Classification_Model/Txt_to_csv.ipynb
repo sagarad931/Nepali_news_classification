{
 "cells": [
  {
   "cell_type": "code",
   "execution_count": 285,
   "id": "92c0a5ab-d56b-4358-99d8-6404380efafc",
   "metadata": {
    "tags": []
   },
   "outputs": [],
   "source": [
    "import pandas as pd\n",
    "import os\n",
    "import glob"
   ]
  },
  {
   "cell_type": "code",
   "execution_count": 286,
   "id": "d25d4310-ce1c-4095-ac0b-9ce48528f732",
   "metadata": {
    "tags": []
   },
   "outputs": [],
   "source": [
    "directory_path = 'D:/Final year project/References/Data Sets/Nepali News Data Set/nepali_news_dataset_20_categories_small/Tourism'"
   ]
  },
  {
   "cell_type": "code",
   "execution_count": 287,
   "id": "a807d66e-75cb-47b8-8aa1-fcadfe31c2a0",
   "metadata": {
    "tags": []
   },
   "outputs": [],
   "source": [
    "data = []"
   ]
  },
  {
   "cell_type": "code",
   "execution_count": 288,
   "id": "51e5c137-02b2-4adc-aba2-2c7594ba16f6",
   "metadata": {
    "tags": []
   },
   "outputs": [
    {
     "ename": "UnicodeDecodeError",
     "evalue": "'utf-8' codec can't decode byte 0xa4 in position 470: invalid start byte",
     "output_type": "error",
     "traceback": [
      "\u001b[1;31m---------------------------------------------------------------------------\u001b[0m",
      "\u001b[1;31mUnicodeDecodeError\u001b[0m                        Traceback (most recent call last)",
      "Cell \u001b[1;32mIn[288], line 4\u001b[0m\n\u001b[0;32m      2\u001b[0m \u001b[38;5;28;01mif\u001b[39;00m filename\u001b[38;5;241m.\u001b[39mendswith(\u001b[38;5;124m'\u001b[39m\u001b[38;5;124m.txt\u001b[39m\u001b[38;5;124m'\u001b[39m):\n\u001b[0;32m      3\u001b[0m     \u001b[38;5;28;01mwith\u001b[39;00m \u001b[38;5;28mopen\u001b[39m(os\u001b[38;5;241m.\u001b[39mpath\u001b[38;5;241m.\u001b[39mjoin(directory_path, filename), \u001b[38;5;124m'\u001b[39m\u001b[38;5;124mr\u001b[39m\u001b[38;5;124m'\u001b[39m, encoding\u001b[38;5;241m=\u001b[39m\u001b[38;5;124m'\u001b[39m\u001b[38;5;124mutf-8\u001b[39m\u001b[38;5;124m'\u001b[39m) \u001b[38;5;28;01mas\u001b[39;00m f:\n\u001b[1;32m----> 4\u001b[0m         text \u001b[38;5;241m=\u001b[39m f\u001b[38;5;241m.\u001b[39mread()\n\u001b[0;32m      5\u001b[0m         data\u001b[38;5;241m.\u001b[39mappend([text, filename[:\u001b[38;5;241m-\u001b[39m\u001b[38;5;241m4\u001b[39m]])\n",
      "File \u001b[1;32m<frozen codecs>:322\u001b[0m, in \u001b[0;36mdecode\u001b[1;34m(self, input, final)\u001b[0m\n",
      "\u001b[1;31mUnicodeDecodeError\u001b[0m: 'utf-8' codec can't decode byte 0xa4 in position 470: invalid start byte"
     ]
    }
   ],
   "source": [
    "for filename in os.listdir(directory_path):\n",
    "    if filename.endswith('.txt'):\n",
    "        with open(os.path.join(directory_path, filename), 'r', encoding='utf-8') as f:\n",
    "            text = f.read()\n",
    "            data.append([text, filename[:-4]])"
   ]
  },
  {
   "cell_type": "code",
   "execution_count": 289,
   "id": "726f8aee-c7c6-47ca-891c-9e2fd6b9011f",
   "metadata": {
    "tags": []
   },
   "outputs": [],
   "source": [
    "df = pd.DataFrame(data, columns=['text', 'category'])"
   ]
  },
  {
   "cell_type": "code",
   "execution_count": 290,
   "id": "473a2296-0cbd-4953-b187-e5a9cdd9bde8",
   "metadata": {
    "tags": []
   },
   "outputs": [],
   "source": [
    "df.to_csv('D:/Final year project/References/Tourism.csv', index=False)"
   ]
  },
  {
   "cell_type": "code",
   "execution_count": 291,
   "id": "071a2f76-ffb4-40ea-9e2c-b9830e306b73",
   "metadata": {
    "tags": []
   },
   "outputs": [
    {
     "data": {
      "text/html": [
       "<div>\n",
       "<style scoped>\n",
       "    .dataframe tbody tr th:only-of-type {\n",
       "        vertical-align: middle;\n",
       "    }\n",
       "\n",
       "    .dataframe tbody tr th {\n",
       "        vertical-align: top;\n",
       "    }\n",
       "\n",
       "    .dataframe thead th {\n",
       "        text-align: right;\n",
       "    }\n",
       "</style>\n",
       "<table border=\"1\" class=\"dataframe\">\n",
       "  <thead>\n",
       "    <tr style=\"text-align: right;\">\n",
       "      <th></th>\n",
       "      <th>text</th>\n",
       "      <th>category</th>\n",
       "    </tr>\n",
       "  </thead>\n",
       "  <tbody>\n",
       "    <tr>\n",
       "      <th>0</th>\n",
       "      <td>﻿काठमाडौं । चौधौं हिमालयन ह्वाइट वाटर च्यालेन्...</td>\n",
       "      <td>1</td>\n",
       "    </tr>\n",
       "    <tr>\n",
       "      <th>1</th>\n",
       "      <td>﻿५ पुस, काठमाडौं । नगरकोटस्थित क्लब हिमालयले क...</td>\n",
       "      <td>10</td>\n",
       "    </tr>\n",
       "    <tr>\n",
       "      <th>2</th>\n",
       "      <td>९ साउन, पोखरा । ऐतिहासिक, पुरातात्विक एवम् धार...</td>\n",
       "      <td>100</td>\n",
       "    </tr>\n",
       "    <tr>\n",
       "      <th>3</th>\n",
       "      <td>११ साउन, काठमाडौं । सरकारले आगामी दश वर्षभित्र...</td>\n",
       "      <td>101</td>\n",
       "    </tr>\n",
       "    <tr>\n",
       "      <th>4</th>\n",
       "      <td>१२ साउन, काठमाडौं । सरकारले भाडा निर्धारण नगर्...</td>\n",
       "      <td>102</td>\n",
       "    </tr>\n",
       "    <tr>\n",
       "      <th>5</th>\n",
       "      <td>﻿काठमाडौं । सिम्रिक एयरलाइन्सले साउन ९ गतेदेखि...</td>\n",
       "      <td>103</td>\n",
       "    </tr>\n",
       "    <tr>\n",
       "      <th>6</th>\n",
       "      <td>﻿१५ साउन, काठमाडौं । हरिया पहाडको बीचमा निलो म...</td>\n",
       "      <td>104</td>\n",
       "    </tr>\n",
       "    <tr>\n",
       "      <th>7</th>\n",
       "      <td>﻿१७ साउन, काठमाडौं । नेपालको कुल रोजगारीमा पर्...</td>\n",
       "      <td>105</td>\n",
       "    </tr>\n",
       "    <tr>\n",
       "      <th>8</th>\n",
       "      <td>﻿१७ साउन, काठमाडौं । होटल संघ नेपाल (हान)को छि...</td>\n",
       "      <td>106</td>\n",
       "    </tr>\n",
       "    <tr>\n",
       "      <th>9</th>\n",
       "      <td>१८ साउन, बैतडी। पर्यटन प्रवद्र्धन गर्ने उद्देश...</td>\n",
       "      <td>107</td>\n",
       "    </tr>\n",
       "    <tr>\n",
       "      <th>10</th>\n",
       "      <td>﻿१९ साउन, इलाम । इलाम नगरपालिका–७ स्थित महभिरम...</td>\n",
       "      <td>108</td>\n",
       "    </tr>\n",
       "    <tr>\n",
       "      <th>11</th>\n",
       "      <td>२१ साउन, बर्दिवास । साउने बोलबम मेला जारी नै र...</td>\n",
       "      <td>109</td>\n",
       "    </tr>\n",
       "    <tr>\n",
       "      <th>12</th>\n",
       "      <td>﻿काठमाडौं । पर्यटन मन्त्री आनन्द पोखरेलले पोखर...</td>\n",
       "      <td>11</td>\n",
       "    </tr>\n",
       "    <tr>\n",
       "      <th>13</th>\n",
       "      <td>﻿२२ साउन, पाल्पा । तानसेन–रानीमहल दरबार सडक खण...</td>\n",
       "      <td>110</td>\n",
       "    </tr>\n",
       "    <tr>\n",
       "      <th>14</th>\n",
       "      <td>२८ साउन, गुल्मी । स्थानीय उत्पादनलाई प्रोत्साह...</td>\n",
       "      <td>111</td>\n",
       "    </tr>\n",
       "    <tr>\n",
       "      <th>15</th>\n",
       "      <td>﻿३२ साउन, मेलम्ची । भूकम्पपछि मेलम्ची नगरपालिक...</td>\n",
       "      <td>112</td>\n",
       "    </tr>\n",
       "    <tr>\n",
       "      <th>16</th>\n",
       "      <td>﻿१ भदौ, काठमाडौं । नेपाल वायुसेवा निगम (नेपाल ...</td>\n",
       "      <td>113</td>\n",
       "    </tr>\n",
       "    <tr>\n",
       "      <th>17</th>\n",
       "      <td>२ भदौ, काठमाडौं । ४ वर्षपछि राष्ट्रिय ध्वजाबाह...</td>\n",
       "      <td>114</td>\n",
       "    </tr>\n",
       "    <tr>\n",
       "      <th>18</th>\n",
       "      <td>﻿काठमाडौं । नेपाल वायुसेवा निगमले आजबाट संयुक्...</td>\n",
       "      <td>115</td>\n",
       "    </tr>\n",
       "    <tr>\n",
       "      <th>19</th>\n",
       "      <td>﻿६ भदौ भीमदत्तनगर । विश्वकै दुर्लभ दुई हजार ३०...</td>\n",
       "      <td>116</td>\n",
       "    </tr>\n",
       "    <tr>\n",
       "      <th>20</th>\n",
       "      <td>﻿काठमाडौं । चन्द्रागिरी डाडाँमा केवलकार संचालन...</td>\n",
       "      <td>117</td>\n",
       "    </tr>\n",
       "    <tr>\n",
       "      <th>21</th>\n",
       "      <td>﻿काठमाडौं । २०१६ मा पर्यटक संख्यामा बृद्धि भएक...</td>\n",
       "      <td>118</td>\n",
       "    </tr>\n",
       "    <tr>\n",
       "      <th>22</th>\n",
       "      <td>﻿१० भदौ, तनहुँ । बन्दीपुर नगरपालिका कार्यालयले...</td>\n",
       "      <td>119</td>\n",
       "    </tr>\n",
       "    <tr>\n",
       "      <th>23</th>\n",
       "      <td>﻿काठमाडौं । नेपाल पर्यटन बोर्डका नवनियुक्त कार...</td>\n",
       "      <td>12</td>\n",
       "    </tr>\n",
       "    <tr>\n",
       "      <th>24</th>\n",
       "      <td>﻿साउदी अरवको मिक्कामा विश्वकै सवैभन्दा ठूलो हो...</td>\n",
       "      <td>120</td>\n",
       "    </tr>\n",
       "    <tr>\n",
       "      <th>25</th>\n",
       "      <td>﻿१६ भदौ, पोखरा । पोखराको बाबु एड्भेञ्चर प्यारा...</td>\n",
       "      <td>121</td>\n",
       "    </tr>\n",
       "    <tr>\n",
       "      <th>26</th>\n",
       "      <td>१८ भदौ, पोखरा । रेस्टुराँ एन्ड बार एसोसियसन ने...</td>\n",
       "      <td>122</td>\n",
       "    </tr>\n",
       "    <tr>\n",
       "      <th>27</th>\n",
       "      <td>१९ भदौ, फलेवास (पर्वत) । साहसिक पर्यटकलाई आकर्...</td>\n",
       "      <td>123</td>\n",
       "    </tr>\n",
       "    <tr>\n",
       "      <th>28</th>\n",
       "      <td>﻿१९ भदौ, काठमाडौं । ट्रेकिङ एजेण्टस् एशोसियशन ...</td>\n",
       "      <td>124</td>\n",
       "    </tr>\n",
       "    <tr>\n",
       "      <th>29</th>\n",
       "      <td>२१ भदौ, काठमाडौं । बुद्ध एयरलाई ‘एटीआर’ तथा ‘ब...</td>\n",
       "      <td>125</td>\n",
       "    </tr>\n",
       "  </tbody>\n",
       "</table>\n",
       "</div>"
      ],
      "text/plain": [
       "                                                 text  category\n",
       "0   ﻿काठमाडौं । चौधौं हिमालयन ह्वाइट वाटर च्यालेन्...         1\n",
       "1   ﻿५ पुस, काठमाडौं । नगरकोटस्थित क्लब हिमालयले क...        10\n",
       "2   ९ साउन, पोखरा । ऐतिहासिक, पुरातात्विक एवम् धार...       100\n",
       "3   ११ साउन, काठमाडौं । सरकारले आगामी दश वर्षभित्र...       101\n",
       "4   १२ साउन, काठमाडौं । सरकारले भाडा निर्धारण नगर्...       102\n",
       "5   ﻿काठमाडौं । सिम्रिक एयरलाइन्सले साउन ९ गतेदेखि...       103\n",
       "6   ﻿१५ साउन, काठमाडौं । हरिया पहाडको बीचमा निलो म...       104\n",
       "7   ﻿१७ साउन, काठमाडौं । नेपालको कुल रोजगारीमा पर्...       105\n",
       "8   ﻿१७ साउन, काठमाडौं । होटल संघ नेपाल (हान)को छि...       106\n",
       "9   १८ साउन, बैतडी। पर्यटन प्रवद्र्धन गर्ने उद्देश...       107\n",
       "10  ﻿१९ साउन, इलाम । इलाम नगरपालिका–७ स्थित महभिरम...       108\n",
       "11  २१ साउन, बर्दिवास । साउने बोलबम मेला जारी नै र...       109\n",
       "12  ﻿काठमाडौं । पर्यटन मन्त्री आनन्द पोखरेलले पोखर...        11\n",
       "13  ﻿२२ साउन, पाल्पा । तानसेन–रानीमहल दरबार सडक खण...       110\n",
       "14  २८ साउन, गुल्मी । स्थानीय उत्पादनलाई प्रोत्साह...       111\n",
       "15  ﻿३२ साउन, मेलम्ची । भूकम्पपछि मेलम्ची नगरपालिक...       112\n",
       "16  ﻿१ भदौ, काठमाडौं । नेपाल वायुसेवा निगम (नेपाल ...       113\n",
       "17  २ भदौ, काठमाडौं । ४ वर्षपछि राष्ट्रिय ध्वजाबाह...       114\n",
       "18  ﻿काठमाडौं । नेपाल वायुसेवा निगमले आजबाट संयुक्...       115\n",
       "19  ﻿६ भदौ भीमदत्तनगर । विश्वकै दुर्लभ दुई हजार ३०...       116\n",
       "20  ﻿काठमाडौं । चन्द्रागिरी डाडाँमा केवलकार संचालन...       117\n",
       "21  ﻿काठमाडौं । २०१६ मा पर्यटक संख्यामा बृद्धि भएक...       118\n",
       "22  ﻿१० भदौ, तनहुँ । बन्दीपुर नगरपालिका कार्यालयले...       119\n",
       "23  ﻿काठमाडौं । नेपाल पर्यटन बोर्डका नवनियुक्त कार...        12\n",
       "24  ﻿साउदी अरवको मिक्कामा विश्वकै सवैभन्दा ठूलो हो...       120\n",
       "25  ﻿१६ भदौ, पोखरा । पोखराको बाबु एड्भेञ्चर प्यारा...       121\n",
       "26  १८ भदौ, पोखरा । रेस्टुराँ एन्ड बार एसोसियसन ने...       122\n",
       "27  १९ भदौ, फलेवास (पर्वत) । साहसिक पर्यटकलाई आकर्...       123\n",
       "28  ﻿१९ भदौ, काठमाडौं । ट्रेकिङ एजेण्टस् एशोसियशन ...       124\n",
       "29  २१ भदौ, काठमाडौं । बुद्ध एयरलाई ‘एटीआर’ तथा ‘ब...       125"
      ]
     },
     "execution_count": 291,
     "metadata": {},
     "output_type": "execute_result"
    }
   ],
   "source": [
    "data = pd.read_csv(\"D:/Final year project/References/Tourism.csv\")\n",
    "data.head(30)"
   ]
  },
  {
   "cell_type": "code",
   "execution_count": null,
   "id": "c609cd02-1892-4c03-8f74-b2941807ec55",
   "metadata": {},
   "outputs": [],
   "source": []
  },
  {
   "cell_type": "code",
   "execution_count": null,
   "id": "f56db28e-b049-4ccf-9ed2-e075c419a271",
   "metadata": {},
   "outputs": [],
   "source": []
  },
  {
   "cell_type": "code",
   "execution_count": null,
   "id": "ed6b7f52-d41e-4e11-8d00-cd613a6e7732",
   "metadata": {},
   "outputs": [],
   "source": []
  }
 ],
 "metadata": {
  "kernelspec": {
   "display_name": "Python 3 (ipykernel)",
   "language": "python",
   "name": "python3"
  },
  "language_info": {
   "codemirror_mode": {
    "name": "ipython",
    "version": 3
   },
   "file_extension": ".py",
   "mimetype": "text/x-python",
   "name": "python",
   "nbconvert_exporter": "python",
   "pygments_lexer": "ipython3",
   "version": "3.11.1"
  }
 },
 "nbformat": 4,
 "nbformat_minor": 5
}
