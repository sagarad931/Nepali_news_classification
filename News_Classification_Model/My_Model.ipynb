{
 "cells": [
  {
   "cell_type": "markdown",
   "id": "5be6b36e-6135-4964-aaac-e44fbc6100cf",
   "metadata": {},
   "source": [
    "# Importing the necessary modules"
   ]
  },
  {
   "cell_type": "code",
   "execution_count": 1,
   "id": "664dd786-7445-4230-9377-16c1970ea9cd",
   "metadata": {
    "tags": []
   },
   "outputs": [],
   "source": [
    "import os\n",
    "import pandas as pd\n",
    "import numpy as np\n",
    "import matplotlib.pyplot as plt\n",
    "import seaborn as sns\n",
    "import warnings\n",
    "warnings.filterwarnings(\"ignore\")"
   ]
  },
  {
   "cell_type": "markdown",
   "id": "f1e6274a-d926-4555-b0e0-9d0656dd0f6f",
   "metadata": {
    "tags": []
   },
   "source": [
    "# Load our csv file from local device"
   ]
  },
  {
   "cell_type": "code",
   "execution_count": 2,
   "id": "d6e8bbeb-4bb0-4b61-be9e-075be97dd189",
   "metadata": {
    "tags": []
   },
   "outputs": [
    {
     "name": "stdout",
     "output_type": "stream",
     "text": [
      "['Agriculture.csv', 'Automobiles.csv', 'Bank.csv', 'Business.csv', 'Economy.csv', 'Education.csv', 'Entertainment.csv', 'Health.csv', 'Health1.csv', 'Health2.csv', 'Politics.csv', 'Politics1.csv', 'Sports.csv', 'Technology.csv', 'Tourism.csv', 'Tourism1.csv', 'World.csv']\n"
     ]
    }
   ],
   "source": [
    "all_filenames = [i for i in os.listdir(\"CSV files\") if  \".csv\" in i and \"combined\" not in i]\n",
    "print(all_filenames)"
   ]
  },
  {
   "cell_type": "markdown",
   "id": "8efd79da-5ebe-432d-a196-5ce3b3b9ded3",
   "metadata": {
    "tags": []
   },
   "source": [
    "# Getting the root of our csv data"
   ]
  },
  {
   "cell_type": "code",
   "execution_count": 3,
   "id": "31ee8c60-7742-4c92-b87c-51547d86489c",
   "metadata": {
    "tags": []
   },
   "outputs": [],
   "source": [
    "root = \"CSV files\\\\\""
   ]
  },
  {
   "cell_type": "markdown",
   "id": "314241dc-d827-4358-b3f2-4a256eca29e3",
   "metadata": {
    "tags": []
   },
   "source": [
    "# Combining the multiple csv file into one file as combined_csv"
   ]
  },
  {
   "cell_type": "code",
   "execution_count": 4,
   "id": "7b10f4e9-dd3a-4f8d-8fd3-52773e274fec",
   "metadata": {
    "tags": []
   },
   "outputs": [
    {
     "data": {
      "text/html": [
       "<div>\n",
       "<style scoped>\n",
       "    .dataframe tbody tr th:only-of-type {\n",
       "        vertical-align: middle;\n",
       "    }\n",
       "\n",
       "    .dataframe tbody tr th {\n",
       "        vertical-align: top;\n",
       "    }\n",
       "\n",
       "    .dataframe thead th {\n",
       "        text-align: right;\n",
       "    }\n",
       "</style>\n",
       "<table border=\"1\" class=\"dataframe\">\n",
       "  <thead>\n",
       "    <tr style=\"text-align: right;\">\n",
       "      <th></th>\n",
       "      <th>text</th>\n",
       "      <th>category</th>\n",
       "    </tr>\n",
       "  </thead>\n",
       "  <tbody>\n",
       "    <tr>\n",
       "      <th>0</th>\n",
       "      <td>﻿काठमाडौंमा पहिलो पटक स्ट्रबेरीको व्यवसायिक खे...</td>\n",
       "      <td>Agriculture</td>\n",
       "    </tr>\n",
       "    <tr>\n",
       "      <th>1</th>\n",
       "      <td>जिल्लाका किसानले लगाएको अदुवामा गानो कुहिने, ग...</td>\n",
       "      <td>Agriculture</td>\n",
       "    </tr>\n",
       "    <tr>\n",
       "      <th>2</th>\n",
       "      <td>काभ्रेपलाञ्चोकमा कृषकले एसआरआई प्रविधिमा गरेको...</td>\n",
       "      <td>Agriculture</td>\n",
       "    </tr>\n",
       "    <tr>\n",
       "      <th>3</th>\n",
       "      <td>राजधानीमा यतिबेला तरकारीको मूल्य आकासिएको छ। क...</td>\n",
       "      <td>Agriculture</td>\n",
       "    </tr>\n",
       "    <tr>\n",
       "      <th>4</th>\n",
       "      <td>पाल पोल्ट्री तथा लाइभस्टक क्षेत्रको समग्र विका...</td>\n",
       "      <td>Agriculture</td>\n",
       "    </tr>\n",
       "    <tr>\n",
       "      <th>...</th>\n",
       "      <td>...</td>\n",
       "      <td>...</td>\n",
       "    </tr>\n",
       "    <tr>\n",
       "      <th>117</th>\n",
       "      <td>\\r\\n﻿बिहार । मुकेश पाठक सहित आधा दर्जन कुख्यात...</td>\n",
       "      <td>world</td>\n",
       "    </tr>\n",
       "    <tr>\n",
       "      <th>118</th>\n",
       "      <td>\\r\\n﻿राजविराज, २६ साउन । सप्तरी जिल्लामा पहिलो...</td>\n",
       "      <td>world</td>\n",
       "    </tr>\n",
       "    <tr>\n",
       "      <th>119</th>\n",
       "      <td>\\r\\n﻿वीरगञ्ज, ५ असोज । वीरगञ्जमा भव्यताका साथ ...</td>\n",
       "      <td>world</td>\n",
       "    </tr>\n",
       "    <tr>\n",
       "      <th>120</th>\n",
       "      <td>\\r\\n﻿वीरगञ्ज, ५ असोज । आत्मा ज्ञान प्रचार संघ ...</td>\n",
       "      <td>world</td>\n",
       "    </tr>\n",
       "    <tr>\n",
       "      <th>121</th>\n",
       "      <td>\\r\\n﻿सिरहा, ३० कार्तिक । सिरहाको कर्जन्हाका क्...</td>\n",
       "      <td>world</td>\n",
       "    </tr>\n",
       "  </tbody>\n",
       "</table>\n",
       "<p>2134 rows × 2 columns</p>\n",
       "</div>"
      ],
      "text/plain": [
       "                                                  text     category\n",
       "0    ﻿काठमाडौंमा पहिलो पटक स्ट्रबेरीको व्यवसायिक खे...  Agriculture\n",
       "1    जिल्लाका किसानले लगाएको अदुवामा गानो कुहिने, ग...  Agriculture\n",
       "2    काभ्रेपलाञ्चोकमा कृषकले एसआरआई प्रविधिमा गरेको...  Agriculture\n",
       "3    राजधानीमा यतिबेला तरकारीको मूल्य आकासिएको छ। क...  Agriculture\n",
       "4    पाल पोल्ट्री तथा लाइभस्टक क्षेत्रको समग्र विका...  Agriculture\n",
       "..                                                 ...          ...\n",
       "117  \\r\\n﻿बिहार । मुकेश पाठक सहित आधा दर्जन कुख्यात...        world\n",
       "118  \\r\\n﻿राजविराज, २६ साउन । सप्तरी जिल्लामा पहिलो...        world\n",
       "119  \\r\\n﻿वीरगञ्ज, ५ असोज । वीरगञ्जमा भव्यताका साथ ...        world\n",
       "120  \\r\\n﻿वीरगञ्ज, ५ असोज । आत्मा ज्ञान प्रचार संघ ...        world\n",
       "121  \\r\\n﻿सिरहा, ३० कार्तिक । सिरहाको कर्जन्हाका क्...        world\n",
       "\n",
       "[2134 rows x 2 columns]"
      ]
     },
     "execution_count": 4,
     "metadata": {},
     "output_type": "execute_result"
    }
   ],
   "source": [
    "combined_csv = pd.concat([pd.read_csv(root+f) for f in all_filenames])\n",
    "combined_csv"
   ]
  },
  {
   "cell_type": "markdown",
   "id": "a2bb9d52-5d72-4c81-925b-351d548291f0",
   "metadata": {
    "tags": []
   },
   "source": [
    "## Here we are copying the orignal dataframe into df. In case if we change some file the copy dataframe will be change and original data will not be altered "
   ]
  },
  {
   "cell_type": "code",
   "execution_count": 5,
   "id": "b349647f-6573-4425-9431-5ee3dd1eb43a",
   "metadata": {
    "tags": []
   },
   "outputs": [],
   "source": [
    "df = combined_csv.copy()"
   ]
  },
  {
   "cell_type": "markdown",
   "id": "1cac79d4-c4d9-498f-aba8-3db05789488d",
   "metadata": {
    "tags": []
   },
   "source": [
    "## We count the news per category"
   ]
  },
  {
   "cell_type": "code",
   "execution_count": 6,
   "id": "a5acb3cb-e5a7-44a7-b7e2-15c9a4e1a1b9",
   "metadata": {
    "tags": []
   },
   "outputs": [
    {
     "data": {
      "text/html": [
       "<div>\n",
       "<style scoped>\n",
       "    .dataframe tbody tr th:only-of-type {\n",
       "        vertical-align: middle;\n",
       "    }\n",
       "\n",
       "    .dataframe tbody tr th {\n",
       "        vertical-align: top;\n",
       "    }\n",
       "\n",
       "    .dataframe thead th {\n",
       "        text-align: right;\n",
       "    }\n",
       "</style>\n",
       "<table border=\"1\" class=\"dataframe\">\n",
       "  <thead>\n",
       "    <tr style=\"text-align: right;\">\n",
       "      <th></th>\n",
       "      <th>text</th>\n",
       "    </tr>\n",
       "    <tr>\n",
       "      <th>category</th>\n",
       "      <th></th>\n",
       "    </tr>\n",
       "  </thead>\n",
       "  <tbody>\n",
       "    <tr>\n",
       "      <th>Agriculture</th>\n",
       "      <td>100</td>\n",
       "    </tr>\n",
       "    <tr>\n",
       "      <th>automobiles</th>\n",
       "      <td>95</td>\n",
       "    </tr>\n",
       "    <tr>\n",
       "      <th>bank</th>\n",
       "      <td>417</td>\n",
       "    </tr>\n",
       "    <tr>\n",
       "      <th>business</th>\n",
       "      <td>89</td>\n",
       "    </tr>\n",
       "    <tr>\n",
       "      <th>economy</th>\n",
       "      <td>100</td>\n",
       "    </tr>\n",
       "    <tr>\n",
       "      <th>education</th>\n",
       "      <td>85</td>\n",
       "    </tr>\n",
       "    <tr>\n",
       "      <th>entertainment</th>\n",
       "      <td>72</td>\n",
       "    </tr>\n",
       "    <tr>\n",
       "      <th>health</th>\n",
       "      <td>94</td>\n",
       "    </tr>\n",
       "    <tr>\n",
       "      <th>politic</th>\n",
       "      <td>165</td>\n",
       "    </tr>\n",
       "    <tr>\n",
       "      <th>sports</th>\n",
       "      <td>320</td>\n",
       "    </tr>\n",
       "    <tr>\n",
       "      <th>technology</th>\n",
       "      <td>317</td>\n",
       "    </tr>\n",
       "    <tr>\n",
       "      <th>tourism</th>\n",
       "      <td>158</td>\n",
       "    </tr>\n",
       "    <tr>\n",
       "      <th>world</th>\n",
       "      <td>122</td>\n",
       "    </tr>\n",
       "  </tbody>\n",
       "</table>\n",
       "</div>"
      ],
      "text/plain": [
       "               text\n",
       "category           \n",
       "Agriculture     100\n",
       "automobiles      95\n",
       "bank            417\n",
       "business         89\n",
       "economy         100\n",
       "education        85\n",
       "entertainment    72\n",
       "health           94\n",
       "politic         165\n",
       "sports          320\n",
       "technology      317\n",
       "tourism         158\n",
       "world           122"
      ]
     },
     "execution_count": 6,
     "metadata": {},
     "output_type": "execute_result"
    }
   ],
   "source": [
    "df[[\"text\",\"category\"]].groupby(\"category\").count()"
   ]
  },
  {
   "cell_type": "markdown",
   "id": "b5590722-83de-4c88-94c4-9782416f2cf4",
   "metadata": {
    "tags": []
   },
   "source": [
    "## Bar plot of above frequency of text file per category"
   ]
  },
  {
   "cell_type": "code",
   "execution_count": 7,
   "id": "e0b8e2ce-6901-42e2-8ff2-2026c6a2178f",
   "metadata": {
    "tags": []
   },
   "outputs": [
    {
     "data": {
      "text/plain": [
       "<Axes: xlabel='category'>"
      ]
     },
     "execution_count": 7,
     "metadata": {},
     "output_type": "execute_result"
    },
    {
     "data": {
      "image/png": "[encoded data removed]",
      "text/plain": [
       "<Figure size 640x480 with 1 Axes>"
      ]
     },
     "metadata": {},
     "output_type": "display_data"
    }
   ],
   "source": [
    "df[[\"text\",\"category\"]].groupby(\"category\").count().plot(kind=\"bar\")"
   ]
  },
  {
   "cell_type": "markdown",
   "id": "3b4f5a1a-b752-4209-8ae0-4c75fa33d701",
   "metadata": {
    "tags": []
   },
   "source": [
    "# Load our Stopwords file"
   ]
  },
  {
   "cell_type": "code",
   "execution_count": 8,
   "id": "2c021b54-6c35-44fa-9e4c-299d02b170b7",
   "metadata": {
    "tags": []
   },
   "outputs": [],
   "source": [
    "stop_file = \"nepali_stopwords.txt\"\n",
    "stop_words = []\n",
    "with open(stop_file, encoding='utf-8') as fp:\n",
    "    lines = fp.readlines()\n",
    "    stop_words =list( map(lambda x:x.strip(), lines))\n",
    "# stop_words"
   ]
  },
  {
   "cell_type": "markdown",
   "id": "b237a472-e743-4682-9573-b4b43c44be6a",
   "metadata": {},
   "source": [
    "# Load our Punctuation word file"
   ]
  },
  {
   "cell_type": "code",
   "execution_count": 9,
   "id": "317fa32d-cdb1-41fe-b706-2b2b7181edaf",
   "metadata": {
    "tags": []
   },
   "outputs": [
    {
     "data": {
      "text/plain": [
       "[':', '?', '|', '!', '.', ',', '\" \"', \"''\", '( )', '—', '-', \"?'\", '\\\\n']"
      ]
     },
     "execution_count": 9,
     "metadata": {},
     "output_type": "execute_result"
    }
   ],
   "source": [
    "punctuation_file = \"nepali_punctuation.txt\"\n",
    "punctuation_words = []\n",
    "with open(punctuation_file, encoding='utf-8') as fp:\n",
    "    lines = fp.readlines()\n",
    "    punctuation_words =list( map(lambda x:x.strip(), lines))\n",
    "punctuation_words"
   ]
  },
  {
   "cell_type": "markdown",
   "id": "11f296cd-bcd1-4fa6-a917-073c30c0cedb",
   "metadata": {
    "tags": []
   },
   "source": [
    "# Text pre-processing\n",
    "### Here er wrote a method called preprocess_text that takes data, stop words, and punctuation words as parameters. Then, we created a list called new_cat to hold it. Also initialized noise as numbers. For each words:\n",
    "   *  #### If word is not in punctuation or stop words then,\n",
    "   *  #### Do not take this word if it contains noise characters.\n",
    "   *  #### Remove parenthesis"
   ]
  },
  {
   "cell_type": "code",
   "execution_count": 10,
   "id": "d7c377f2-8c02-4d3d-9894-b9ac7054ebd6",
   "metadata": {
    "tags": []
   },
   "outputs": [
    {
     "name": "stdout",
     "output_type": "stream",
     "text": [
      "['सगरमाथा चुचुरो पुग् शेर्पा टोली नेतृत्व लेख्']\n"
     ]
    }
   ],
   "source": [
    "from snowballstemmer import NepaliStemmer\n",
    "\n",
    "def preprocess_text(cat_data, stop_words, punctuation_words):\n",
    "    stemmer = NepaliStemmer() # initialize the Nepali stemmer\n",
    "  \n",
    "    new_cat = []\n",
    "    noise = \"1,2,3,4,5,6,7,8,9,0,०,१,२,३,४,५,६,७,८,९\".split(\",\")\n",
    "  \n",
    "    for row in cat_data:\n",
    "        words = row.strip().split(\" \")      \n",
    "        nwords = \"\"\n",
    "    \n",
    "        for word in words:\n",
    "            # apply Nepali stemming to the word\n",
    "            if word not in punctuation_words and word not in stop_words:\n",
    "                word = stemmer.stemWord(word)\n",
    "                \n",
    "                is_noise = False\n",
    "                for n in noise:\n",
    "                    if n in word:\n",
    "                        is_noise = True\n",
    "                        break\n",
    "                if not is_noise and len(word) > 1:\n",
    "                    word = word.replace(\"(\",\"\")\n",
    "                    word = word.replace(\")\",\"\")\n",
    "                    nwords += word + \" \"\n",
    "                \n",
    "          \n",
    "        new_cat.append(nwords.strip())\n",
    "  \n",
    "    return new_cat\n",
    "\n",
    "title_clean = preprocess_text([\"\\nसगरमाथा चुचुरोमा पुग्ने ९ शेर्पा टोलीको नेतृत्व लेख्नु चाहनुहुन्छ गरेको छ ।\"], stop_words, punctuation_words)\n",
    "print(title_clean)"
   ]
  },
  {
   "cell_type": "code",
   "execution_count": 11,
   "id": "1606dfda-0310-46e4-8c1a-fb4f44ad801d",
   "metadata": {
    "tags": []
   },
   "outputs": [],
   "source": [
    "ndf = df.copy()"
   ]
  },
  {
   "cell_type": "code",
   "execution_count": null,
   "id": "f322920f-197f-4d31-aa53-b23261c75bf0",
   "metadata": {
    "tags": []
   },
   "outputs": [],
   "source": []
  },
  {
   "cell_type": "markdown",
   "id": "ea84b779-2f08-410b-87e6-47d03f18a0b9",
   "metadata": {},
   "source": [
    "# Importing the necessary module for Multinomial Naive Bayes"
   ]
  },
  {
   "cell_type": "code",
   "execution_count": 12,
   "id": "c381c59d-a708-483d-b570-4b30c2481dea",
   "metadata": {
    "tags": []
   },
   "outputs": [],
   "source": [
    "from sklearn.feature_extraction.text import CountVectorizer\n",
    "from sklearn.model_selection import train_test_split\n",
    "# from sklearn.naive_bayes import MultinomialNB\n",
    "from sklearn.utils.multiclass import unique_labels\n",
    "from sklearn.metrics import precision_score, recall_score, f1_score\n",
    "from sklearn.metrics import confusion_matrix\n",
    "from sklearn.feature_extraction.text import TfidfTransformer"
   ]
  },
  {
   "cell_type": "markdown",
   "id": "542201d5-1226-484f-9670-f7d9b14269b4",
   "metadata": {},
   "source": [
    "# Splitting data into Train and Test set\n",
    "  ### Here we are splitting the Train data as 80% and Test data as 20%. Train data are used for model fitting and test data are used while doing model prediction. But before that, we     will merge two similar categories into one and also assign a unique label for each class."
   ]
  },
  {
   "cell_type": "code",
   "execution_count": 13,
   "id": "37fc6901-3522-4e50-be4d-c44cb6c8196e",
   "metadata": {
    "tags": []
   },
   "outputs": [
    {
     "name": "stdout",
     "output_type": "stream",
     "text": [
      "  (0, 6436)\t1\n",
      "  (0, 6498)\t1\n",
      "  (0, 6919)\t1\n",
      "  (0, 6930)\t1\n",
      "  (0, 16716)\t1\n",
      "  (0, 16842)\t1\n",
      "  (0, 20705)\t1\n",
      "  (0, 20831)\t1\n",
      "  (0, 25056)\t1\n",
      "  (0, 25084)\t1\n",
      "  (0, 27302)\t1\n",
      "  (0, 27324)\t1\n",
      "  (0, 29295)\t1\n",
      "  (0, 29348)\t1\n",
      "  (0, 34548)\t1\n",
      "  (0, 34589)\t1\n",
      "  (0, 40244)\t1\n",
      "  (0, 40251)\t1\n",
      "  (0, 43148)\t1\n",
      "  (0, 43149)\t1\n",
      "  (0, 52415)\t1\n",
      "  (0, 52565)\t1\n",
      "  (0, 57032)\t1\n",
      "  (0, 61556)\t1\n",
      "  (0, 61838)\t1\n",
      "  :\t:\n",
      "  (1706, 87878)\t1\n",
      "  (1706, 88126)\t1\n",
      "  (1706, 88147)\t4\n",
      "  (1706, 88226)\t1\n",
      "  (1706, 88330)\t1\n",
      "  (1706, 88342)\t2\n",
      "  (1706, 88642)\t2\n",
      "  (1706, 88646)\t1\n",
      "  (1706, 88837)\t1\n",
      "  (1706, 89052)\t2\n",
      "  (1706, 89055)\t1\n",
      "  (1706, 89065)\t1\n",
      "  (1706, 89128)\t1\n",
      "  (1706, 89217)\t1\n",
      "  (1706, 89282)\t1\n",
      "  (1706, 89289)\t1\n",
      "  (1706, 89617)\t3\n",
      "  (1706, 89731)\t1\n",
      "  (1706, 89733)\t2\n",
      "  (1706, 89965)\t1\n",
      "  (1706, 90017)\t1\n",
      "  (1706, 90281)\t1\n",
      "  (1706, 90385)\t1\n",
      "  (1706, 90841)\t1\n",
      "  (1706, 91120)\t1\n"
     ]
    },
    {
     "data": {
      "text/plain": [
       "(1707, 92201)"
      ]
     },
     "execution_count": 13,
     "metadata": {},
     "output_type": "execute_result"
    }
   ],
   "source": [
    "data = pd.DataFrame()\n",
    "\n",
    "data[\"text\"]=ndf.text\n",
    "# Preprocess the text data\n",
    "data[\"text\"] = preprocess_text(data[\"text\"], stop_words, punctuation_words)\n",
    "\n",
    "\n",
    "# data[\"category\"]=ndf.category\n",
    "\n",
    "data[\"label\"]=ndf.category\n",
    "data[\"target\"] = data[\"label\"].apply(lambda x: \"news\" if x==\"prabhas-news\" else \"national\" if x==\"province\" else x)\n",
    "classes = {c:i for i,c in enumerate(data.target.unique())}\n",
    "data[\"target\"] = data.target.apply(lambda x: classes[x])\n",
    "\n",
    "\n",
    "X_train, X_test, Y_train, Y_test = train_test_split(data[\"text\"],data[\"target\"],test_size=0.2, random_state=1)\n",
    "\n",
    "vectorizer = CountVectorizer(ngram_range=(1, 2)).fit(X_train)\n",
    "X_train_vectorized = vectorizer.transform(X_train)\n",
    "print(X_train_vectorized)\n",
    "X_train_vectorized.shape"
   ]
  },
  {
   "cell_type": "code",
   "execution_count": 14,
   "id": "b48ecd21-ddb9-4c4a-bc4c-37808776b333",
   "metadata": {
    "tags": []
   },
   "outputs": [
    {
     "data": {
      "text/plain": [
       "(1707, 92201)"
      ]
     },
     "execution_count": 14,
     "metadata": {},
     "output_type": "execute_result"
    }
   ],
   "source": [
    "tfidf_transformer=TfidfTransformer()\n",
    "X_train_tfidf=tfidf_transformer.fit_transform(X_train_vectorized)\n",
    "X_train_tfidf.shape"
   ]
  },
  {
   "cell_type": "markdown",
   "id": "6eb645cf-d0b2-4176-923c-4cb87e73440a",
   "metadata": {},
   "source": [
    "# Model Fitting \n",
    "### We fit MultinomialNB by using Train set of data. We get value of coefficent of determination 99.86% that means the model is able to fit only 99.86% of data."
   ]
  },
  {
   "cell_type": "code",
   "execution_count": 15,
   "id": "96b51bda-703d-4aa7-a98f-dd1535b2b97d",
   "metadata": {
    "tags": []
   },
   "outputs": [],
   "source": [
    "import numpy as np\n",
    "from scipy.sparse import csr_matrix\n",
    "from sklearn.feature_extraction.text import CountVectorizer\n",
    "\n",
    "class Multinomial:\n",
    "    def __init__(self, alpha=1.0):\n",
    "        self.alpha = alpha\n",
    "        self.vectorizer = None\n",
    "        \n",
    "    \n",
    "    def fit(self, X, y):\n",
    "        # Convert text to word count matrix\n",
    "        X_sparse = X\n",
    "        \n",
    "        # Get unique class labels and their counts\n",
    "        self.classes, class_counts = np.unique(y, return_counts=True)\n",
    "        n_classes = len(self.classes)\n",
    "        \n",
    "        # Calculate class prior probabilities\n",
    "        self.class_prior = class_counts / np.sum(class_counts)\n",
    "        \n",
    "        # Calculate count of each feature per class and add smoothing\n",
    "        feature_count = np.zeros((n_classes, X_sparse.shape[1]))\n",
    "        for i in range(n_classes):\n",
    "            Xi = X_sparse[y == self.classes[i]]\n",
    "            feature_count[i, :] = np.array(Xi.sum(axis=0)).flatten() + self.alpha\n",
    "        \n",
    "        # Calculate count of each class\n",
    "        class_count = feature_count.sum(axis=1)\n",
    "        \n",
    "        # Calculate log probability of each feature for each class\n",
    "        self.feature_log_prob = (np.log(feature_count) - np.log(class_count.reshape(-1, 1)))\n",
    "        \n",
    "        return self\n",
    "    \n",
    "    def _log_prob(self, X):\n",
    "        # Calculate log probability of each class for each sample\n",
    "        return X @ self.feature_log_prob.T + np.log(self.class_prior)\n",
    "    \n",
    "    def predict(self, X):\n",
    "        X_sparse = X\n",
    "        \n",
    "        # Calculate log probability of each class for each sample\n",
    "        log_prob = self._log_prob(X_sparse)\n",
    "        \n",
    "        # Find class with highest log probability for each sample\n",
    "        y_pred = np.argmax(log_prob, axis=1)\n",
    "        \n",
    "        # Map class index to label\n",
    "        return self.classes[y_pred]\n",
    "    \n",
    "    def score(self, X, y):\n",
    "        y_pred = self.predict(X)\n",
    "        return np.mean(y_pred == y)  "
   ]
  },
  {
   "cell_type": "code",
   "execution_count": 16,
   "id": "d4a6dc18-74ea-4d04-9f95-a65a5ddaa5ec",
   "metadata": {
    "tags": []
   },
   "outputs": [
    {
     "data": {
      "text/plain": [
       "0.9976567076742824"
      ]
     },
     "execution_count": 16,
     "metadata": {},
     "output_type": "execute_result"
    }
   ],
   "source": [
    "model = Multinomial(alpha=0.1)\n",
    "model.fit(X_train_vectorized, Y_train)\n",
    "model.score(X_train_vectorized, Y_train)"
   ]
  },
  {
   "cell_type": "markdown",
   "id": "c35652a0-f95c-4a18-b3a1-cd888d168eb3",
   "metadata": {},
   "source": [
    "# Accuracy"
   ]
  },
  {
   "cell_type": "code",
   "execution_count": 17,
   "id": "13b440a4-5a80-4d5f-b57f-88aca1a3ba99",
   "metadata": {
    "tags": []
   },
   "outputs": [
    {
     "name": "stdout",
     "output_type": "stream",
     "text": [
      "Accuracy: 82.20140515222482 %\n"
     ]
    }
   ],
   "source": [
    "predictions = model.predict(vectorizer.transform(X_test))\n",
    "print(\"Accuracy:\", 100 * sum(predictions == Y_test) / len(predictions), '%')"
   ]
  },
  {
   "cell_type": "code",
   "execution_count": 18,
   "id": "4480d9b7-458e-405a-bbf0-c334a030144b",
   "metadata": {
    "tags": []
   },
   "outputs": [],
   "source": [
    "x_train_transformed = vectorizer.transform(X_test)"
   ]
  },
  {
   "cell_type": "code",
   "execution_count": 19,
   "id": "2e3101e4-5c3c-4495-a02f-8ea54ac90c79",
   "metadata": {
    "tags": []
   },
   "outputs": [],
   "source": [
    "y_predicted = model.predict(x_train_transformed)"
   ]
  },
  {
   "cell_type": "markdown",
   "id": "48334c3d-cf58-4bc5-b704-2e1788916f99",
   "metadata": {},
   "source": [
    "# Calculating the precison, recall and f1 score of out Test data set"
   ]
  },
  {
   "cell_type": "code",
   "execution_count": 20,
   "id": "d13b5b1b-c165-4b41-9f6e-c698c5564e7f",
   "metadata": {
    "tags": []
   },
   "outputs": [
    {
     "name": "stdout",
     "output_type": "stream",
     "text": [
      "PRECISION_SCORE : 0.8354540206881994\n",
      "RECALL_SCORE : 0.8220140515222483\n",
      "F1_SCORE : 0.8188335629763971\n"
     ]
    }
   ],
   "source": [
    "PRECISION_SCORE = precision_score(Y_test, y_predicted, average='weighted')\n",
    "RECALL_SCORE = recall_score(Y_test, y_predicted, average='weighted')\n",
    "F1_SCORE = f1_score(Y_test, y_predicted, average='weighted')\n",
    "print(\"PRECISION_SCORE :\" ,PRECISION_SCORE)\n",
    "print(\"RECALL_SCORE :\" ,RECALL_SCORE)\n",
    "print(\"F1_SCORE :\" ,F1_SCORE)"
   ]
  },
  {
   "cell_type": "markdown",
   "id": "2d887046-8bbf-48c7-b6bb-74c5293b42c8",
   "metadata": {},
   "source": [
    "# Confusion Matrix"
   ]
  },
  {
   "cell_type": "code",
   "execution_count": 21,
   "id": "bff5353a-4eee-45bc-9fe7-135a18c31fe8",
   "metadata": {
    "tags": []
   },
   "outputs": [
    {
     "data": {
      "text/plain": [
       "array([[11,  0,  0,  0,  1,  0,  0,  0,  0,  0,  0,  1,  0],\n",
       "       [ 0, 14,  0,  3,  0,  0,  0,  0,  1,  0,  0,  3,  0],\n",
       "       [ 0,  2, 73,  1,  1,  0,  0,  0,  0,  0,  1,  0,  2],\n",
       "       [ 0,  0,  2, 19,  0,  0,  0,  0,  0,  0,  0,  0,  0],\n",
       "       [ 2,  2,  5,  2,  5,  0,  0,  0,  1,  0,  0,  2,  0],\n",
       "       [ 0,  0,  2,  2,  1, 12,  0,  0,  2,  0,  0,  0,  1],\n",
       "       [ 1,  0,  1,  2,  1,  0, 12,  0,  1,  0,  0,  2,  1],\n",
       "       [ 0,  0,  0,  0,  0,  0,  0, 18,  4,  0,  0,  0,  1],\n",
       "       [ 0,  0,  1,  1,  0,  0,  0,  0, 36,  0,  0,  0,  0],\n",
       "       [ 0,  1,  2,  1,  0,  1,  0,  0,  1, 55,  0,  0,  2],\n",
       "       [ 0,  0,  1,  1,  0,  0,  0,  0,  0,  0, 53,  0,  0],\n",
       "       [ 1,  0,  0,  0,  2,  1,  0,  0,  0,  0,  0, 28,  0],\n",
       "       [ 1,  0,  1,  3,  0,  1,  0,  0,  0,  0,  0,  0, 15]], dtype=int64)"
      ]
     },
     "execution_count": 21,
     "metadata": {},
     "output_type": "execute_result"
    }
   ],
   "source": [
    "confusion_matrix(Y_test, y_predicted)"
   ]
  },
  {
   "cell_type": "markdown",
   "id": "ab9fd634-3ccb-4ab3-a018-a8fad4246d77",
   "metadata": {},
   "source": [
    "# Creating the unique class for different category"
   ]
  },
  {
   "cell_type": "code",
   "execution_count": 22,
   "id": "de9d7947-5283-43d4-81a9-b104b0704b4b",
   "metadata": {
    "tags": []
   },
   "outputs": [
    {
     "data": {
      "text/plain": [
       "(array([ 0,  1,  2,  3,  4,  5,  6,  7,  8,  9, 10, 11, 12], dtype=int64),\n",
       " {'Agriculture': 0,\n",
       "  'automobiles': 1,\n",
       "  'bank': 2,\n",
       "  'business': 3,\n",
       "  'economy': 4,\n",
       "  'education': 5,\n",
       "  'entertainment': 6,\n",
       "  'health': 7,\n",
       "  'politic': 8,\n",
       "  'sports': 9,\n",
       "  'technology': 10,\n",
       "  'tourism': 11,\n",
       "  'world': 12})"
      ]
     },
     "execution_count": 22,
     "metadata": {},
     "output_type": "execute_result"
    }
   ],
   "source": [
    "model.classes, classes"
   ]
  },
  {
   "cell_type": "markdown",
   "id": "51a30953-15ad-4d3e-af70-ff3da3eb6558",
   "metadata": {},
   "source": [
    "# Finally we predict our untrained data and try to find the right category"
   ]
  },
  {
   "cell_type": "code",
   "execution_count": 23,
   "id": "54c767c7-1c6f-41b5-ba4d-0283effb4482",
   "metadata": {
    "tags": []
   },
   "outputs": [
    {
     "data": {
      "text/plain": [
       "['politic']"
      ]
     },
     "execution_count": 23,
     "metadata": {},
     "output_type": "execute_result"
    }
   ],
   "source": [
    "prd = model.predict(vectorizer.transform(\n",
    "    [\n",
    "        'काठमाडौँ — पूर्वअर्थमन्त्रीहरूले आगामी बजेटमार्फत अनावश्यक खर्च कटौती र नयाँ आयोजना नथप्न सुझाएका छन् । आर्थिक वर्ष ०८०/८१ को बजेट तयारीसम्बन्धमा अर्थमन्त्री प्रकाशरण महतले शुक्रबार बोलाएको छलफलमा उनीहरूले व्यावहारिक बजेट तयार गर्न र खर्च कटौतीमा निर्मम बन्नुपर्नेमा जोड दिए ।'\n",
    "    ])\n",
    "            ) \n",
    "nprd = []\n",
    "for k,v in classes.items():\n",
    "  for p in prd:\n",
    "    if v==p:\n",
    "      nprd.append(k)\n",
    "nprd"
   ]
  },
  {
   "cell_type": "code",
   "execution_count": null,
   "id": "269006f5-7dd1-40eb-a502-7a3ee0b1f8fe",
   "metadata": {},
   "outputs": [],
   "source": []
  },
  {
   "cell_type": "code",
   "execution_count": 54,
   "id": "8d5737b2-07ef-4d49-aba4-2e238a2dfa29",
   "metadata": {
    "tags": []
   },
   "outputs": [],
   "source": [
    "import pickle"
   ]
  },
  {
   "cell_type": "code",
   "execution_count": 55,
   "id": "d90612a0-30e5-41b4-b292-d7022dc3185b",
   "metadata": {
    "tags": []
   },
   "outputs": [],
   "source": [
    "filename = 'news_pred_model.pickle'\n",
    "pickle.dump(model,open(filename,'wb'))"
   ]
  },
  {
   "cell_type": "code",
   "execution_count": 56,
   "id": "f2a5f8fd-4bc3-4941-a58e-d0634c961ed3",
   "metadata": {
    "tags": []
   },
   "outputs": [],
   "source": [
    "filename = 'news_pred_vectorizer.pickle'\n",
    "pickle.dump(vectorizer,open(filename,'wb'))"
   ]
  },
  {
   "cell_type": "code",
   "execution_count": null,
   "id": "fc6bfb66-42c2-40f3-89c3-fc259230b899",
   "metadata": {},
   "outputs": [],
   "source": []
  },
  {
   "cell_type": "code",
   "execution_count": 24,
   "id": "4c0b7eeb-f74f-4cc6-b5a1-bf1126497668",
   "metadata": {},
   "outputs": [],
   "source": [
    "# !pip install snowballstemmer"
   ]
  },
  {
   "cell_type": "code",
   "execution_count": 26,
   "id": "ac99078f",
   "metadata": {
    "tags": []
   },
   "outputs": [
    {
     "data": {
      "image/png": "[encoded data removed]",
      "text/plain": [
       "<Figure size 640x480 with 1 Axes>"
      ]
     },
     "metadata": {},
     "output_type": "display_data"
    }
   ],
   "source": [
    "import matplotlib.pyplot as plt\n",
    "import matplotlib.font_manager as fm\n",
    "\n",
    "# Set the font family to Times New Roman\n",
    "font_path = fm.findfont(fm.FontProperties(family=\"Times New Roman\"))\n",
    "\n",
    "# Configure the font family globally\n",
    "plt.rcParams[\"font.family\"] = \"Times New Roman\"\n",
    "\n",
    "# Generate the bar graph with gray bars\n",
    "df[[\"text\", \"category\"]].groupby(\"category\").count().plot(kind=\"bar\", color=\"gray\")\n",
    "\n",
    "# Display the graph\n",
    "plt.show()\n"
   ]
  },
  {
   "cell_type": "code",
   "execution_count": 30,
   "id": "ba4fa768-b2bb-4dcb-b32a-6a512722317d",
   "metadata": {
    "tags": []
   },
   "outputs": [
    {
     "data": {
      "image/png": "[encoded data removed]",
      "text/plain": [
       "<Figure size 640x480 with 2 Axes>"
      ]
     },
     "metadata": {},
     "output_type": "display_data"
    }
   ],
   "source": [
    "import numpy as np\n",
    "import matplotlib.pyplot as plt\n",
    "from sklearn.metrics import confusion_matrix\n",
    "\n",
    "# Example class labels\n",
    "class_labels = ['agriculture', 'automobiles', 'bank', 'business', 'economy', 'education', 'entertainment', 'health', 'politic', 'sports', 'technology', 'tourism', 'world']\n",
    "\n",
    "# Example predicted and true labels\n",
    "y_true = ['agriculture', 'automobiles', 'bank', 'business', 'economy', 'education', 'entertainment', 'health', 'politic', 'sports', 'technology', 'tourism', 'world']\n",
    "y_pred = ['agriculture', 'automobiles', 'bank', 'business', 'economy', 'education', 'entertainment', 'health', 'politic', 'sports', 'technology', 'tourism', 'world']\n",
    "\n",
    "# Compute confusion matrix\n",
    "cm = confusion_matrix(y_true, y_pred, labels=class_labels)\n",
    "\n",
    "# Plot confusion matrix with labels and dataset values\n",
    "fig, ax = plt.subplots()\n",
    "im = ax.imshow(cm, interpolation='nearest', cmap=plt.cm.Blues)\n",
    "\n",
    "# Add dataset values inside the boxes\n",
    "for i in range(len(class_labels)):\n",
    "    for j in range(len(class_labels)):\n",
    "        ax.text(j, i, str(cm[i, j]), ha='center', va='center', color='white')\n",
    "\n",
    "ax.figure.colorbar(im, ax=ax)\n",
    "ax.set(xticks=np.arange(cm.shape[1]),\n",
    "       yticks=np.arange(cm.shape[0]),\n",
    "       xticklabels=class_labels, yticklabels=class_labels,\n",
    "       xlabel='Predicted label', ylabel='True label',\n",
    "       title='Confusion Matrix')\n",
    "\n",
    "plt.show()\n"
   ]
  },
  {
   "cell_type": "code",
   "execution_count": 35,
   "id": "576c8678-c235-4136-9954-97e1db7a742b",
   "metadata": {
    "tags": []
   },
   "outputs": [
    {
     "data": {
      "image/png": "[encoded data removed]",
      "text/plain": [
       "<Figure size 1000x800 with 2 Axes>"
      ]
     },
     "metadata": {},
     "output_type": "display_data"
    }
   ],
   "source": [
    "import numpy as np\n",
    "import matplotlib.pyplot as plt\n",
    "\n",
    "# Define class labels\n",
    "class_labels = ['agriculture', 'automobiles', 'bank', 'business', 'economy', 'education', 'entertainment', 'health', 'politic', 'sports', 'technology', 'tourism', 'world']\n",
    "\n",
    "# Define the confusion matrix\n",
    "cm = np.array([[11, 0, 0, 0, 1, 0, 0, 0, 0, 0, 0, 1, 0],\n",
    "               [0, 14, 0, 3, 0, 0, 0, 0, 1, 0, 0, 3, 0],\n",
    "               [0, 2, 73, 1, 1, 0, 0, 0, 0, 0, 1, 0, 2],\n",
    "               [0, 0, 2, 19, 0, 0, 0, 0, 0, 0, 0, 0, 0],\n",
    "               [2, 2, 5, 2, 5, 0, 0, 0, 1, 0, 0, 2, 0],\n",
    "               [0, 0, 2, 2, 1, 12, 0, 0, 2, 0, 0, 0, 1],\n",
    "               [1, 0, 1, 2, 1, 0, 12, 0, 1, 0, 0, 2, 1],\n",
    "               [0, 0, 0, 0, 0, 0, 0, 18, 4, 0, 0, 0, 1],\n",
    "               [0, 0, 1, 1, 0, 0, 0, 0, 36, 0, 0, 0, 0],\n",
    "               [0, 1, 2, 1, 0, 1, 0, 0, 1, 55, 0, 0, 2],\n",
    "               [0, 0, 1, 1, 0, 0, 0, 0, 0, 0, 53, 0, 0],\n",
    "               [1, 0, 0, 0, 2, 1, 0, 0, 0, 0, 0, 28, 0],\n",
    "               [1, 0, 1, 3, 0, 1, 0, 0, 0, 0, 0, 0, 15]])\n",
    "\n",
    "# Plot confusion matrix with labels and dataset values\n",
    "fig, ax = plt.subplots(figsize=(10, 8))\n",
    "im = ax.imshow(cm, interpolation='nearest', cmap='gray')\n",
    "\n",
    "# Add dataset values inside the boxes\n",
    "for i in range(len(class_labels)):\n",
    "    for j in range(len(class_labels)):\n",
    "        ax.text(j, i, str(cm[i, j]), ha='center', va='center', color='white')\n",
    "\n",
    "ax.figure.colorbar(im, ax=ax)\n",
    "ax.set(xticks=np.arange(cm.shape[1]),\n",
    "       yticks=np.arange(cm.shape[0]),\n",
    "       xticklabels=class_labels, yticklabels=class_labels,\n",
    "       xlabel='Predicted label', ylabel='True label',\n",
    "       title='Confusion Matrix')\n",
    "\n",
    "plt.show()\n"
   ]
  },
  {
   "cell_type": "code",
   "execution_count": null,
   "id": "9e439e5a-d2b8-4662-9288-302885c4b8b6",
   "metadata": {},
   "outputs": [],
   "source": []
  }
 ],
 "metadata": {
  "kernelspec": {
   "display_name": "Python 3 (ipykernel)",
   "language": "python",
   "name": "python3"
  },
  "language_info": {
   "codemirror_mode": {
    "name": "ipython",
    "version": 3
   },
   "file_extension": ".py",
   "mimetype": "text/x-python",
   "name": "python",
   "nbconvert_exporter": "python",
   "pygments_lexer": "ipython3",
   "version": "3.11.3"
  }
 },
 "nbformat": 4,
 "nbformat_minor": 5
}
