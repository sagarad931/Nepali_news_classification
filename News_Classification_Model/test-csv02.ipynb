{
 "cells": [
  {
   "cell_type": "code",
   "execution_count": 45,
   "id": "8595d870-29dc-4d6e-94fd-f2bc81efcf83",
   "metadata": {
    "tags": []
   },
   "outputs": [],
   "source": [
    "import csv\n",
    "import os"
   ]
  },
  {
   "cell_type": "code",
   "execution_count": 46,
   "id": "2f2874eb-a5cb-4d29-be4f-25eba522ae1a",
   "metadata": {
    "tags": []
   },
   "outputs": [],
   "source": [
    "txt_directory = 'D:\\\\Final year project\\\\References\\\\Data Sets\\\\tourism1'"
   ]
  },
  {
   "cell_type": "code",
   "execution_count": 47,
   "id": "7465c2b9-7bae-4859-bcd1-a1eb1aac7734",
   "metadata": {
    "tags": []
   },
   "outputs": [],
   "source": [
    "csv_file = 'D:\\\\Final year project\\\\References\\\\tourism1.csv'"
   ]
  },
  {
   "cell_type": "code",
   "execution_count": 48,
   "id": "c4c49af0-d520-4572-a0fc-e06c61f74e83",
   "metadata": {
    "tags": []
   },
   "outputs": [
    {
     "ename": "UnicodeDecodeError",
     "evalue": "'utf-8' codec can't decode byte 0xff in position 0: invalid start byte",
     "output_type": "error",
     "traceback": [
      "\u001b[1;31m---------------------------------------------------------------------------\u001b[0m",
      "\u001b[1;31mUnicodeDecodeError\u001b[0m                        Traceback (most recent call last)",
      "Cell \u001b[1;32mIn[48], line 14\u001b[0m\n\u001b[0;32m     11\u001b[0m file_path \u001b[38;5;241m=\u001b[39m os\u001b[38;5;241m.\u001b[39mpath\u001b[38;5;241m.\u001b[39mjoin(txt_directory, filename)\n\u001b[0;32m     12\u001b[0m \u001b[38;5;28;01mwith\u001b[39;00m \u001b[38;5;28mopen\u001b[39m(file_path, \u001b[38;5;124m'\u001b[39m\u001b[38;5;124mr\u001b[39m\u001b[38;5;124m'\u001b[39m, encoding\u001b[38;5;241m=\u001b[39m\u001b[38;5;124m'\u001b[39m\u001b[38;5;124mutf-8\u001b[39m\u001b[38;5;124m'\u001b[39m) \u001b[38;5;28;01mas\u001b[39;00m txt_file:\n\u001b[0;32m     13\u001b[0m     \u001b[38;5;66;03m# Read the contents of the file\u001b[39;00m\n\u001b[1;32m---> 14\u001b[0m     text \u001b[38;5;241m=\u001b[39m txt_file\u001b[38;5;241m.\u001b[39mread()\u001b[38;5;241m.\u001b[39mstrip()\n\u001b[0;32m     16\u001b[0m       \u001b[38;5;66;03m# Determine the category based on the filename\u001b[39;00m\n\u001b[0;32m     17\u001b[0m     \u001b[38;5;28;01mif\u001b[39;00m \u001b[38;5;124m'\u001b[39m\u001b[38;5;124mcategory1\u001b[39m\u001b[38;5;124m'\u001b[39m \u001b[38;5;129;01min\u001b[39;00m filename\u001b[38;5;241m.\u001b[39mlower():\n",
      "File \u001b[1;32m<frozen codecs>:322\u001b[0m, in \u001b[0;36mdecode\u001b[1;34m(self, input, final)\u001b[0m\n",
      "\u001b[1;31mUnicodeDecodeError\u001b[0m: 'utf-8' codec can't decode byte 0xff in position 0: invalid start byte"
     ]
    }
   ],
   "source": [
    "# Initialize the CSV writer\n",
    "with open(csv_file, 'w', newline='' , encoding='utf-8') as f:\n",
    "    writer = csv.writer(f)\n",
    "\n",
    "    # Write the header row\n",
    "    writer.writerow(['Text','Category'])\n",
    "\n",
    "    # Iterate over each file in the directory\n",
    "    for filename in os.listdir(txt_directory):\n",
    "        if filename.endswith('.txt'):\n",
    "            file_path = os.path.join(txt_directory, filename)\n",
    "            with open(file_path, 'r', encoding='utf-8') as txt_file:\n",
    "                # Read the contents of the file\n",
    "                text = txt_file.read().strip()\n",
    "                \n",
    "                  # Determine the category based on the filename\n",
    "                if 'category1' in filename.lower():\n",
    "                    category = 'Category 1'\n",
    "                elif 'category2' in filename.lower():\n",
    "                    category = 'Category 2'\n",
    "                else:\n",
    "                    category = 'Unknown'\n",
    "\n",
    "                # Write the category and text to the CSV file\n",
    "                writer.writerow([text,category])\n",
    "                \n",
    "                "
   ]
  },
  {
   "cell_type": "code",
   "execution_count": null,
   "id": "7d34ceab-d175-4438-88b5-7ef6fe0eae3d",
   "metadata": {},
   "outputs": [],
   "source": []
  },
  {
   "cell_type": "code",
   "execution_count": null,
   "id": "ac009036-978e-491f-9d65-fcd386a9fee1",
   "metadata": {},
   "outputs": [],
   "source": []
  },
  {
   "cell_type": "code",
   "execution_count": null,
   "id": "58f2f666-fe95-4712-8ecc-6aba73a59f4a",
   "metadata": {},
   "outputs": [],
   "source": []
  }
 ],
 "metadata": {
  "kernelspec": {
   "display_name": "Python 3 (ipykernel)",
   "language": "python",
   "name": "python3"
  },
  "language_info": {
   "codemirror_mode": {
    "name": "ipython",
    "version": 3
   },
   "file_extension": ".py",
   "mimetype": "text/x-python",
   "name": "python",
   "nbconvert_exporter": "python",
   "pygments_lexer": "ipython3",
   "version": "3.11.3"
  }
 },
 "nbformat": 4,
 "nbformat_minor": 5
}
