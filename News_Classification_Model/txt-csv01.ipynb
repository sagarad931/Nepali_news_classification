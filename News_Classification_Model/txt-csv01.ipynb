{
 "cells": [
  {
   "cell_type": "code",
   "execution_count": 35,
   "id": "3918aae2-374c-49a7-885c-e3bcbf0329e4",
   "metadata": {
    "tags": []
   },
   "outputs": [],
   "source": [
    "import os\n",
    "import csv"
   ]
  },
  {
   "cell_type": "code",
   "execution_count": 36,
   "id": "3558a5d9-4a86-4df2-ab2f-5319fdf9858d",
   "metadata": {
    "tags": []
   },
   "outputs": [],
   "source": [
    "input_dir = 'D:\\\\Final year project\\\\References\\\\Data Sets\\\\Nepali News Data Set\\\\nepali_news_dataset_20_categories_small\\\\Sports'\n",
    "output_file = 'D:\\\\Final year project\\\\References\\\\Sports.csv'"
   ]
  },
  {
   "cell_type": "code",
   "execution_count": 42,
   "id": "43ab75ca-c29e-4461-9a25-7a5f4ea29024",
   "metadata": {
    "tags": []
   },
   "outputs": [],
   "source": [
    "input_string = b'\\xa4...valid utf-8...'\n",
    "decoded_string = input_string.decode('utf-8', errors='ignore')"
   ]
  },
  {
   "cell_type": "code",
   "execution_count": 40,
   "id": "2e1a23fe-5bc8-43c3-be3c-5ffa3ca2046f",
   "metadata": {
    "tags": []
   },
   "outputs": [
    {
     "ename": "UnicodeDecodeError",
     "evalue": "'utf-8' codec can't decode byte 0xa4 in position 1159: invalid start byte",
     "output_type": "error",
     "traceback": [
      "\u001b[1;31m---------------------------------------------------------------------------\u001b[0m",
      "\u001b[1;31mUnicodeDecodeError\u001b[0m                        Traceback (most recent call last)",
      "Cell \u001b[1;32mIn[40], line 11\u001b[0m\n\u001b[0;32m      8\u001b[0m \u001b[38;5;28;01mif\u001b[39;00m filename\u001b[38;5;241m.\u001b[39mendswith(\u001b[38;5;124m'\u001b[39m\u001b[38;5;124m.txt\u001b[39m\u001b[38;5;124m'\u001b[39m):\n\u001b[0;32m      9\u001b[0m     \u001b[38;5;66;03m# read the text file and parse its contents\u001b[39;00m\n\u001b[0;32m     10\u001b[0m     \u001b[38;5;28;01mwith\u001b[39;00m \u001b[38;5;28mopen\u001b[39m(os\u001b[38;5;241m.\u001b[39mpath\u001b[38;5;241m.\u001b[39mjoin(input_dir, filename), \u001b[38;5;124m'\u001b[39m\u001b[38;5;124mr\u001b[39m\u001b[38;5;124m'\u001b[39m, encoding\u001b[38;5;241m=\u001b[39m\u001b[38;5;124m'\u001b[39m\u001b[38;5;124mutf-8\u001b[39m\u001b[38;5;124m'\u001b[39m) \u001b[38;5;28;01mas\u001b[39;00m txt_file:\n\u001b[1;32m---> 11\u001b[0m         lines \u001b[38;5;241m=\u001b[39m \u001b[43mtxt_file\u001b[49m\u001b[38;5;241;43m.\u001b[39;49m\u001b[43mreadlines\u001b[49m\u001b[43m(\u001b[49m\u001b[43m)\u001b[49m\n\u001b[0;32m     12\u001b[0m         data \u001b[38;5;241m=\u001b[39m [filename] \u001b[38;5;241m+\u001b[39m [line\u001b[38;5;241m.\u001b[39mstrip() \u001b[38;5;28;01mfor\u001b[39;00m line \u001b[38;5;129;01min\u001b[39;00m lines]\n\u001b[0;32m     14\u001b[0m     \u001b[38;5;66;03m# write parsed data to the CSV file\u001b[39;00m\n",
      "File \u001b[1;32m<frozen codecs>:322\u001b[0m, in \u001b[0;36mdecode\u001b[1;34m(self, input, final)\u001b[0m\n",
      "\u001b[1;31mUnicodeDecodeError\u001b[0m: 'utf-8' codec can't decode byte 0xa4 in position 1159: invalid start byte"
     ]
    }
   ],
   "source": [
    "# create output CSV file and write header row\n",
    "with open(output_file, 'w', newline='', encoding='utf-8') as csv_file:\n",
    "    writer = csv.writer(csv_file)\n",
    "    writer.writerow(['text', 'category'])\n",
    "\n",
    "    # loop through each text file in the directory\n",
    "    for filename in os.listdir(input_dir):\n",
    "        if filename.endswith('.txt'):\n",
    "            # read the text file and parse its contents\n",
    "            with open(os.path.join(input_dir, filename), 'r', encoding='utf-8') as txt_file:\n",
    "                lines = txt_file.readlines()\n",
    "                data = [filename] + [line.strip() for line in lines]\n",
    "\n",
    "            # write parsed data to the CSV file\n",
    "            writer.writerow(data)\n"
   ]
  },
  {
   "cell_type": "code",
   "execution_count": 39,
   "id": "7b7d7137-24ed-422b-9433-d8781a401054",
   "metadata": {
    "tags": []
   },
   "outputs": [],
   "source": [
    "csv_file.close()"
   ]
  },
  {
   "cell_type": "code",
   "execution_count": null,
   "id": "992f6351-264a-480d-9968-a90c3c62f1af",
   "metadata": {},
   "outputs": [],
   "source": []
  }
 ],
 "metadata": {
  "kernelspec": {
   "display_name": "Python 3 (ipykernel)",
   "language": "python",
   "name": "python3"
  },
  "language_info": {
   "codemirror_mode": {
    "name": "ipython",
    "version": 3
   },
   "file_extension": ".py",
   "mimetype": "text/x-python",
   "name": "python",
   "nbconvert_exporter": "python",
   "pygments_lexer": "ipython3",
   "version": "3.11.1"
  }
 },
 "nbformat": 4,
 "nbformat_minor": 5
}
